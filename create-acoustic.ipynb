{
 "cells": [
  {
   "cell_type": "code",
   "execution_count": 1,
   "metadata": {
    "_cell_guid": "b1076dfc-b9ad-4769-8c92-a6c4dae69d19",
    "_uuid": "8f2839f25d086af736a60e9eeb907d3b93b6e0e5",
    "execution": {
     "iopub.execute_input": "2021-01-15T10:38:27.096406Z",
     "iopub.status.busy": "2021-01-15T10:38:27.095741Z",
     "iopub.status.idle": "2021-01-15T10:38:29.409499Z",
     "shell.execute_reply": "2021-01-15T10:38:29.408886Z"
    },
    "papermill": {
     "duration": 2.325135,
     "end_time": "2021-01-15T10:38:29.409646",
     "exception": false,
     "start_time": "2021-01-15T10:38:27.084511",
     "status": "completed"
    },
    "tags": []
   },
   "outputs": [],
   "source": [
    "import librosa\n",
    "import numpy as np\n",
    "import soundfile\n",
    "import os\n",
    "import glob\n",
    "import joblib\n",
    "import pickle\n",
    "from tqdm import tqdm\n",
    "import pandas as pd"
   ]
  },
  {
   "cell_type": "code",
   "execution_count": 2,
   "metadata": {
    "_cell_guid": "79c7e3d0-c299-4dcb-8224-4455121ee9b0",
    "_uuid": "d629ff2d2480ee46fbb7e2d37f6b5fab8052498a",
    "execution": {
     "iopub.execute_input": "2021-01-15T10:38:29.426884Z",
     "iopub.status.busy": "2021-01-15T10:38:29.425932Z",
     "iopub.status.idle": "2021-01-15T10:38:29.436072Z",
     "shell.execute_reply": "2021-01-15T10:38:29.436616Z"
    },
    "papermill": {
     "duration": 0.019699,
     "end_time": "2021-01-15T10:38:29.436759",
     "exception": false,
     "start_time": "2021-01-15T10:38:29.417060",
     "status": "completed"
    },
    "tags": []
   },
   "outputs": [],
   "source": [
    "def extract_features(file_name, mfcc, chroma, mel):\n",
    "    X, sample_rate= librosa.load(os.path.join(file_name), res_type= 'kaiser_fast')\n",
    "    if chroma:\n",
    "        stft= np.abs(librosa.stft(X))\n",
    "    result= np.array([])\n",
    "    if mfcc:\n",
    "        mfcc= np.mean(librosa.feature.mfcc(y=X, sr= sample_rate, n_mfcc= 40).T, axis=0)\n",
    "        result= np.hstack((result, mfcc))\n",
    "    if chroma:\n",
    "        chroma= np.mean(librosa.feature.chroma_stft(S= stft, sr= sample_rate).T, axis=0)\n",
    "        result= np.hstack((result, chroma))\n",
    "    if mel:\n",
    "        mel= np.mean(librosa.feature.melspectrogram(y=X, sr= sample_rate).T, axis=0)\n",
    "        result= np.hstack((result, mel))\n",
    "    return result"
   ]
  },
  {
   "cell_type": "code",
   "execution_count": 3,
   "metadata": {
    "execution": {
     "iopub.execute_input": "2021-01-15T10:38:29.451914Z",
     "iopub.status.busy": "2021-01-15T10:38:29.451039Z",
     "iopub.status.idle": "2021-01-15T10:38:29.477449Z",
     "shell.execute_reply": "2021-01-15T10:38:29.476907Z"
    },
    "papermill": {
     "duration": 0.035763,
     "end_time": "2021-01-15T10:38:29.477556",
     "exception": false,
     "start_time": "2021-01-15T10:38:29.441793",
     "status": "completed"
    },
    "tags": []
   },
   "outputs": [],
   "source": [
    "df= pd.read_csv('../input/ravdess/data.csv')"
   ]
  },
  {
   "cell_type": "code",
   "execution_count": 4,
   "metadata": {
    "execution": {
     "iopub.execute_input": "2021-01-15T10:38:29.498201Z",
     "iopub.status.busy": "2021-01-15T10:38:29.497255Z",
     "iopub.status.idle": "2021-01-15T10:38:29.499522Z",
     "shell.execute_reply": "2021-01-15T10:38:29.500062Z"
    },
    "papermill": {
     "duration": 0.017213,
     "end_time": "2021-01-15T10:38:29.500195",
     "exception": false,
     "start_time": "2021-01-15T10:38:29.482982",
     "status": "completed"
    },
    "tags": []
   },
   "outputs": [],
   "source": [
    "paths= df['file_name']\n",
    "labels= df['emotion']"
   ]
  },
  {
   "cell_type": "code",
   "execution_count": 5,
   "metadata": {
    "execution": {
     "iopub.execute_input": "2021-01-15T10:38:29.513779Z",
     "iopub.status.busy": "2021-01-15T10:38:29.512905Z",
     "iopub.status.idle": "2021-01-15T10:38:29.518890Z",
     "shell.execute_reply": "2021-01-15T10:38:29.519344Z"
    },
    "papermill": {
     "duration": 0.014094,
     "end_time": "2021-01-15T10:38:29.519481",
     "exception": false,
     "start_time": "2021-01-15T10:38:29.505387",
     "status": "completed"
    },
    "tags": []
   },
   "outputs": [],
   "source": [
    "def save_acoustic_data():\n",
    "    x = []\n",
    "    for path in tqdm(paths):\n",
    "        features= extract_features(path, mfcc= True, chroma= True, mel= True)\n",
    "        x.append(features)\n",
    "    print(len(x))\n",
    "    joblib.dump(x, 'acoustic_features.joblib')\n",
    "    joblib.dump(labels, 'labels.joblib')"
   ]
  },
  {
   "cell_type": "code",
   "execution_count": 6,
   "metadata": {
    "execution": {
     "iopub.execute_input": "2021-01-15T10:38:29.533077Z",
     "iopub.status.busy": "2021-01-15T10:38:29.532256Z",
     "iopub.status.idle": "2021-01-15T10:41:03.143750Z",
     "shell.execute_reply": "2021-01-15T10:41:03.143028Z"
    },
    "papermill": {
     "duration": 153.618945,
     "end_time": "2021-01-15T10:41:03.143889",
     "exception": false,
     "start_time": "2021-01-15T10:38:29.524944",
     "status": "completed"
    },
    "tags": []
   },
   "outputs": [
    {
     "name": "stderr",
     "output_type": "stream",
     "text": [
      "100%|██████████| 2000/2000 [02:33<00:00, 13.03it/s]\n"
     ]
    },
    {
     "name": "stdout",
     "output_type": "stream",
     "text": [
      "2000\n"
     ]
    }
   ],
   "source": [
    "save_acoustic_data()"
   ]
  }
 ],
 "metadata": {
  "kernelspec": {
   "display_name": "Python 3",
   "language": "python",
   "name": "python3"
  },
  "language_info": {
   "codemirror_mode": {
    "name": "ipython",
    "version": 3
   },
   "file_extension": ".py",
   "mimetype": "text/x-python",
   "name": "python",
   "nbconvert_exporter": "python",
   "pygments_lexer": "ipython3",
   "version": "3.7.6"
  },
  "papermill": {
   "duration": 161.921255,
   "end_time": "2021-01-15T10:41:04.501856",
   "environment_variables": {},
   "exception": null,
   "input_path": "__notebook__.ipynb",
   "output_path": "__notebook__.ipynb",
   "parameters": {},
   "start_time": "2021-01-15T10:38:22.580601",
   "version": "2.1.0"
  }
 },
 "nbformat": 4,
 "nbformat_minor": 4
}
