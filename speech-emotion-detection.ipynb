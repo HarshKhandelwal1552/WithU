{
 "cells": [
  {
   "cell_type": "code",
   "execution_count": 1,
   "metadata": {
    "_cell_guid": "b1076dfc-b9ad-4769-8c92-a6c4dae69d19",
    "_uuid": "8f2839f25d086af736a60e9eeb907d3b93b6e0e5",
    "execution": {
     "iopub.execute_input": "2021-01-17T05:37:27.580419Z",
     "iopub.status.busy": "2021-01-17T05:37:27.579746Z",
     "iopub.status.idle": "2021-01-17T05:37:33.938773Z",
     "shell.execute_reply": "2021-01-17T05:37:33.937682Z"
    },
    "papermill": {
     "duration": 6.381137,
     "end_time": "2021-01-17T05:37:33.938904",
     "exception": false,
     "start_time": "2021-01-17T05:37:27.557767",
     "status": "completed"
    },
    "tags": []
   },
   "outputs": [],
   "source": [
    "import joblib \n",
    "import tensorflow as tf\n",
    "import numpy as np\n",
    "import os\n",
    "from tqdm import tqdm\n",
    "import librosa\n",
    "import glob\n",
    "from keras.utils import np_utils\n",
    "from tensorflow import keras\n",
    "from tensorflow.keras.models import Sequential\n",
    "from tensorflow.keras.layers import Conv1D, Activation, MaxPooling1D, Flatten, BatchNormalization, Dense, Dropout\n",
    "from tensorflow.keras.callbacks import ModelCheckpoint, ReduceLROnPlateau\n",
    "from sklearn.model_selection import train_test_split\n",
    "from sklearn.preprocessing import OneHotEncoder\n",
    "from sklearn.preprocessing import LabelEncoder \n",
    "from sklearn.neural_network import MLPClassifier\n",
    "from sklearn.metrics import log_loss, classification_report\n",
    "from tensorflow.keras import backend\n",
    "import tensorflow_addons as tfa\n",
    "from tensorflow.keras.metrics import Recall"
   ]
  },
  {
   "cell_type": "code",
   "execution_count": 2,
   "metadata": {
    "execution": {
     "iopub.execute_input": "2021-01-17T05:37:33.975656Z",
     "iopub.status.busy": "2021-01-17T05:37:33.974781Z",
     "iopub.status.idle": "2021-01-17T05:37:33.976927Z",
     "shell.execute_reply": "2021-01-17T05:37:33.977845Z"
    },
    "papermill": {
     "duration": 0.02552,
     "end_time": "2021-01-17T05:37:33.978016",
     "exception": false,
     "start_time": "2021-01-17T05:37:33.952496",
     "status": "completed"
    },
    "tags": []
   },
   "outputs": [],
   "source": [
    "from sklearn.svm import SVC\n",
    "from sklearn.preprocessing import StandardScaler"
   ]
  },
  {
   "cell_type": "code",
   "execution_count": 3,
   "metadata": {
    "execution": {
     "iopub.execute_input": "2021-01-17T05:37:34.018107Z",
     "iopub.status.busy": "2021-01-17T05:37:34.017295Z",
     "iopub.status.idle": "2021-01-17T05:37:34.019385Z",
     "shell.execute_reply": "2021-01-17T05:37:34.018777Z"
    },
    "papermill": {
     "duration": 0.02418,
     "end_time": "2021-01-17T05:37:34.019494",
     "exception": false,
     "start_time": "2021-01-17T05:37:33.995314",
     "status": "completed"
    },
    "tags": []
   },
   "outputs": [],
   "source": [
    "DIR= './input/ravdess'"
   ]
  },
  {
   "cell_type": "code",
   "execution_count": 4,
   "metadata": {
    "execution": {
     "iopub.execute_input": "2021-01-17T05:37:34.066226Z",
     "iopub.status.busy": "2021-01-17T05:37:34.065524Z",
     "iopub.status.idle": "2021-01-17T05:37:34.070040Z",
     "shell.execute_reply": "2021-01-17T05:37:34.070982Z"
    },
    "papermill": {
     "duration": 0.034188,
     "end_time": "2021-01-17T05:37:34.071115",
     "exception": false,
     "start_time": "2021-01-17T05:37:34.036927",
     "status": "completed"
    },
    "tags": []
   },
   "outputs": [],
   "source": [
    "def extract_features(file_name, mfcc, chroma, mel):\n",
    "    X, sample_rate= librosa.load(os.path.join(file_name), res_type= 'kaiser_fast')\n",
    "    if chroma:\n",
    "        stft= np.abs(librosa.stft(X))\n",
    "    result= np.array([])\n",
    "    if mfcc:\n",
    "        mfcc= np.mean(librosa.feature.mfcc(y=X, sr= sample_rate, n_mfcc= 40).T, axis=0)\n",
    "        result= np.hstack((result, mfcc))\n",
    "    if chroma:\n",
    "        chroma= np.mean(librosa.feature.chroma_stft(S= stft, sr= sample_rate).T, axis=0)\n",
    "        result= np.hstack((result, chroma))\n",
    "    if mel:\n",
    "        mel= np.mean(librosa.feature.melspectrogram(y=X, sr= sample_rate).T, axis=0)\n",
    "        result= np.hstack((result, mel))\n",
    "    return result"
   ]
  },
  {
   "cell_type": "code",
   "execution_count": 5,
   "metadata": {
    "execution": {
     "iopub.execute_input": "2021-01-17T05:37:34.114067Z",
     "iopub.status.busy": "2021-01-17T05:37:34.113366Z",
     "iopub.status.idle": "2021-01-17T05:37:34.116499Z",
     "shell.execute_reply": "2021-01-17T05:37:34.117037Z"
    },
    "papermill": {
     "duration": 0.028055,
     "end_time": "2021-01-17T05:37:34.117167",
     "exception": false,
     "start_time": "2021-01-17T05:37:34.089112",
     "status": "completed"
    },
    "tags": []
   },
   "outputs": [],
   "source": [
    "def test_data():\n",
    "    x= []\n",
    "\n",
    "    file1= '../input/ravdess/help me.wav'\n",
    "    file2= '../input/ravdess/t1.wav'\n",
    "    features= extract_features(file1, mfcc= True, chroma= True, mel= True)\n",
    "    x.append(features)\n",
    "    features= extract_features(file2, mfcc= True, chroma= True, mel= True)\n",
    "    x.append(features)\n",
    "    return x"
   ]
  },
  {
   "cell_type": "code",
   "execution_count": 6,
   "metadata": {
    "execution": {
     "iopub.execute_input": "2021-01-17T05:37:34.157641Z",
     "iopub.status.busy": "2021-01-17T05:37:34.156961Z",
     "iopub.status.idle": "2021-01-17T05:37:35.139389Z",
     "shell.execute_reply": "2021-01-17T05:37:35.140089Z"
    },
    "papermill": {
     "duration": 1.005218,
     "end_time": "2021-01-17T05:37:35.140229",
     "exception": false,
     "start_time": "2021-01-17T05:37:34.135011",
     "status": "completed"
    },
    "tags": []
   },
   "outputs": [],
   "source": [
    "test= np.array(test_data())\n",
    "testcnn= np.expand_dims(test, axis=2)"
   ]
  },
  {
   "cell_type": "code",
   "execution_count": 7,
   "metadata": {
    "execution": {
     "iopub.execute_input": "2021-01-17T05:37:35.170438Z",
     "iopub.status.busy": "2021-01-17T05:37:35.169903Z",
     "iopub.status.idle": "2021-01-17T05:37:35.318621Z",
     "shell.execute_reply": "2021-01-17T05:37:35.318111Z"
    },
    "papermill": {
     "duration": 0.166133,
     "end_time": "2021-01-17T05:37:35.318720",
     "exception": false,
     "start_time": "2021-01-17T05:37:35.152587",
     "status": "completed"
    },
    "tags": []
   },
   "outputs": [],
   "source": [
    "features_DIR= '../input/ravdess/acoustic_features.joblib'\n",
    "labels_DIR= '../input/ravdess/labels.joblib'\n",
    "x, y = joblib.load(features_DIR), joblib.load(labels_DIR)\n",
    "x= np.array(x)\n",
    "le= LabelEncoder()\n",
    "y= np_utils.to_categorical(le.fit_transform(y))\n",
    "# ohe= OneHotEncoder()\n",
    "# y= ohe.fit_transform(y.reshape(-1,1))\n",
    "x_train, x_test, y_train, y_test= train_test_split(x, y, test_size= 0.25,  random_state= 42, shuffle= True)"
   ]
  },
  {
   "cell_type": "code",
   "execution_count": 8,
   "metadata": {
    "execution": {
     "iopub.execute_input": "2021-01-17T05:37:35.349144Z",
     "iopub.status.busy": "2021-01-17T05:37:35.348622Z",
     "iopub.status.idle": "2021-01-17T05:37:35.354564Z",
     "shell.execute_reply": "2021-01-17T05:37:35.354062Z"
    },
    "papermill": {
     "duration": 0.023401,
     "end_time": "2021-01-17T05:37:35.354698",
     "exception": false,
     "start_time": "2021-01-17T05:37:35.331297",
     "status": "completed"
    },
    "tags": []
   },
   "outputs": [
    {
     "data": {
      "text/plain": [
       "(1500, 180)"
      ]
     },
     "execution_count": 8,
     "metadata": {},
     "output_type": "execute_result"
    }
   ],
   "source": [
    "x_train.shape"
   ]
  },
  {
   "cell_type": "code",
   "execution_count": 9,
   "metadata": {
    "execution": {
     "iopub.execute_input": "2021-01-17T05:37:35.384285Z",
     "iopub.status.busy": "2021-01-17T05:37:35.383795Z",
     "iopub.status.idle": "2021-01-17T05:37:35.387594Z",
     "shell.execute_reply": "2021-01-17T05:37:35.387042Z"
    },
    "papermill": {
     "duration": 0.020257,
     "end_time": "2021-01-17T05:37:35.387713",
     "exception": false,
     "start_time": "2021-01-17T05:37:35.367456",
     "status": "completed"
    },
    "tags": []
   },
   "outputs": [],
   "source": [
    "#DataFlair - Initialize the Multi Layer Perceptron Classifier\n",
    "MPLC =MLPClassifier(alpha=0.001, \n",
    "                    batch_size=256, \n",
    "                    epsilon=1e-08, \n",
    "                    hidden_layer_sizes=(300,), \n",
    "                    learning_rate='adaptive', \n",
    "                    max_iter=1000)"
   ]
  },
  {
   "cell_type": "code",
   "execution_count": 10,
   "metadata": {
    "execution": {
     "iopub.execute_input": "2021-01-17T05:37:35.417147Z",
     "iopub.status.busy": "2021-01-17T05:37:35.416628Z",
     "iopub.status.idle": "2021-01-17T05:37:39.140887Z",
     "shell.execute_reply": "2021-01-17T05:37:39.141322Z"
    },
    "papermill": {
     "duration": 3.740947,
     "end_time": "2021-01-17T05:37:39.141488",
     "exception": false,
     "start_time": "2021-01-17T05:37:35.400541",
     "status": "completed"
    },
    "tags": []
   },
   "outputs": [
    {
     "data": {
      "text/plain": [
       "MLPClassifier(alpha=0.001, batch_size=256, hidden_layer_sizes=(300,),\n",
       "              learning_rate='adaptive', max_iter=1000)"
      ]
     },
     "execution_count": 10,
     "metadata": {},
     "output_type": "execute_result"
    }
   ],
   "source": [
    "MPLC.fit(x_train, y_train)"
   ]
  },
  {
   "cell_type": "code",
   "execution_count": 11,
   "metadata": {
    "execution": {
     "iopub.execute_input": "2021-01-17T05:37:39.175827Z",
     "iopub.status.busy": "2021-01-17T05:37:39.173617Z",
     "iopub.status.idle": "2021-01-17T05:37:39.193071Z",
     "shell.execute_reply": "2021-01-17T05:37:39.193520Z"
    },
    "papermill": {
     "duration": 0.037953,
     "end_time": "2021-01-17T05:37:39.193639",
     "exception": false,
     "start_time": "2021-01-17T05:37:39.155686",
     "status": "completed"
    },
    "tags": []
   },
   "outputs": [
    {
     "data": {
      "text/plain": [
       "0.646"
      ]
     },
     "execution_count": 11,
     "metadata": {},
     "output_type": "execute_result"
    }
   ],
   "source": [
    "joblib.dump(MPLC, 'MPLC.h5')\n",
    "MPLC.score(x_test, y_test)"
   ]
  },
  {
   "cell_type": "code",
   "execution_count": 12,
   "metadata": {
    "execution": {
     "iopub.execute_input": "2021-01-17T05:37:39.226220Z",
     "iopub.status.busy": "2021-01-17T05:37:39.225515Z",
     "iopub.status.idle": "2021-01-17T05:37:39.229322Z",
     "shell.execute_reply": "2021-01-17T05:37:39.228898Z"
    },
    "papermill": {
     "duration": 0.021386,
     "end_time": "2021-01-17T05:37:39.229433",
     "exception": false,
     "start_time": "2021-01-17T05:37:39.208047",
     "status": "completed"
    },
    "tags": []
   },
   "outputs": [
    {
     "data": {
      "text/plain": [
       "['female_angry',\n",
       " 'female_calm',\n",
       " 'female_fearful',\n",
       " 'female_happy',\n",
       " 'female_sad',\n",
       " 'male_angry',\n",
       " 'male_calm',\n",
       " 'male_fearful',\n",
       " 'male_happy',\n",
       " 'male_sad']"
      ]
     },
     "execution_count": 12,
     "metadata": {},
     "output_type": "execute_result"
    }
   ],
   "source": [
    "list(le.classes_)"
   ]
  },
  {
   "cell_type": "code",
   "execution_count": 13,
   "metadata": {
    "execution": {
     "iopub.execute_input": "2021-01-17T05:37:39.262165Z",
     "iopub.status.busy": "2021-01-17T05:37:39.261433Z",
     "iopub.status.idle": "2021-01-17T05:37:39.263801Z",
     "shell.execute_reply": "2021-01-17T05:37:39.264212Z"
    },
    "papermill": {
     "duration": 0.020764,
     "end_time": "2021-01-17T05:37:39.264307",
     "exception": false,
     "start_time": "2021-01-17T05:37:39.243543",
     "status": "completed"
    },
    "tags": []
   },
   "outputs": [],
   "source": [
    "b= MPLC.predict_proba(test)"
   ]
  },
  {
   "cell_type": "code",
   "execution_count": 14,
   "metadata": {
    "execution": {
     "iopub.execute_input": "2021-01-17T05:37:39.297478Z",
     "iopub.status.busy": "2021-01-17T05:37:39.296658Z",
     "iopub.status.idle": "2021-01-17T05:37:39.320139Z",
     "shell.execute_reply": "2021-01-17T05:37:39.319524Z"
    },
    "papermill": {
     "duration": 0.041577,
     "end_time": "2021-01-17T05:37:39.320254",
     "exception": false,
     "start_time": "2021-01-17T05:37:39.278677",
     "status": "completed"
    },
    "tags": []
   },
   "outputs": [
    {
     "name": "stderr",
     "output_type": "stream",
     "text": [
      "/opt/conda/lib/python3.7/site-packages/sklearn/metrics/_classification.py:1221: UndefinedMetricWarning: Precision and F-score are ill-defined and being set to 0.0 in samples with no predicted labels. Use `zero_division` parameter to control this behavior.\n",
      "  _warn_prf(average, modifier, msg_start, len(result))\n"
     ]
    },
    {
     "data": {
      "text/plain": [
       "'              precision    recall  f1-score   support\\n\\n           0       0.96      0.86      0.91        79\\n           1       0.54      0.64      0.58        22\\n           2       0.95      0.81      0.87        73\\n           3       0.95      0.91      0.93        82\\n           4       0.90      0.78      0.84        72\\n           5       0.52      0.43      0.47        35\\n           6       1.00      0.33      0.50        30\\n           7       0.60      0.33      0.43        36\\n           8       0.77      0.45      0.57        38\\n           9       0.71      0.30      0.43        33\\n\\n   micro avg       0.85      0.67      0.75       500\\n   macro avg       0.79      0.58      0.65       500\\nweighted avg       0.84      0.67      0.73       500\\n samples avg       0.66      0.67      0.66       500\\n'"
      ]
     },
     "execution_count": 14,
     "metadata": {},
     "output_type": "execute_result"
    }
   ],
   "source": [
    "classification_report(y_test, MPLC.predict(x_test))"
   ]
  },
  {
   "cell_type": "code",
   "execution_count": 15,
   "metadata": {
    "execution": {
     "iopub.execute_input": "2021-01-17T05:37:39.355260Z",
     "iopub.status.busy": "2021-01-17T05:37:39.354609Z",
     "iopub.status.idle": "2021-01-17T05:37:39.357189Z",
     "shell.execute_reply": "2021-01-17T05:37:39.357623Z"
    },
    "papermill": {
     "duration": 0.021709,
     "end_time": "2021-01-17T05:37:39.357723",
     "exception": false,
     "start_time": "2021-01-17T05:37:39.336014",
     "status": "completed"
    },
    "tags": []
   },
   "outputs": [],
   "source": [
    "svc= SVC()\n",
    "svc.probability=True"
   ]
  },
  {
   "cell_type": "code",
   "execution_count": 16,
   "metadata": {
    "execution": {
     "iopub.execute_input": "2021-01-17T05:37:39.393258Z",
     "iopub.status.busy": "2021-01-17T05:37:39.392150Z",
     "iopub.status.idle": "2021-01-17T05:37:42.607562Z",
     "shell.execute_reply": "2021-01-17T05:37:42.606625Z"
    },
    "papermill": {
     "duration": 3.234669,
     "end_time": "2021-01-17T05:37:42.607681",
     "exception": false,
     "start_time": "2021-01-17T05:37:39.373012",
     "status": "completed"
    },
    "tags": []
   },
   "outputs": [
    {
     "data": {
      "text/plain": [
       "SVC(probability=True)"
      ]
     },
     "execution_count": 16,
     "metadata": {},
     "output_type": "execute_result"
    }
   ],
   "source": [
    "svc.fit(x_train, np.argmax(y_train, axis= 1))"
   ]
  },
  {
   "cell_type": "code",
   "execution_count": 17,
   "metadata": {
    "execution": {
     "iopub.execute_input": "2021-01-17T05:37:42.644745Z",
     "iopub.status.busy": "2021-01-17T05:37:42.643903Z",
     "iopub.status.idle": "2021-01-17T05:37:42.830053Z",
     "shell.execute_reply": "2021-01-17T05:37:42.830507Z"
    },
    "papermill": {
     "duration": 0.207065,
     "end_time": "2021-01-17T05:37:42.830628",
     "exception": false,
     "start_time": "2021-01-17T05:37:42.623563",
     "status": "completed"
    },
    "tags": []
   },
   "outputs": [
    {
     "data": {
      "text/plain": [
       "0.556"
      ]
     },
     "execution_count": 17,
     "metadata": {},
     "output_type": "execute_result"
    }
   ],
   "source": [
    "svc.score(x_test, np.argmax(y_test, axis=1))"
   ]
  },
  {
   "cell_type": "code",
   "execution_count": 18,
   "metadata": {
    "execution": {
     "iopub.execute_input": "2021-01-17T05:37:42.868439Z",
     "iopub.status.busy": "2021-01-17T05:37:42.867613Z",
     "iopub.status.idle": "2021-01-17T05:37:42.871279Z",
     "shell.execute_reply": "2021-01-17T05:37:42.870748Z"
    },
    "papermill": {
     "duration": 0.024267,
     "end_time": "2021-01-17T05:37:42.871401",
     "exception": false,
     "start_time": "2021-01-17T05:37:42.847134",
     "status": "completed"
    },
    "tags": []
   },
   "outputs": [],
   "source": [
    "a= svc.predict_proba(test)"
   ]
  },
  {
   "cell_type": "code",
   "execution_count": 19,
   "metadata": {
    "execution": {
     "iopub.execute_input": "2021-01-17T05:37:42.907924Z",
     "iopub.status.busy": "2021-01-17T05:37:42.906875Z",
     "iopub.status.idle": "2021-01-17T05:37:42.915746Z",
     "shell.execute_reply": "2021-01-17T05:37:42.915174Z"
    },
    "papermill": {
     "duration": 0.02838,
     "end_time": "2021-01-17T05:37:42.915836",
     "exception": false,
     "start_time": "2021-01-17T05:37:42.887456",
     "status": "completed"
    },
    "tags": []
   },
   "outputs": [
    {
     "data": {
      "text/plain": [
       "['svc.h5']"
      ]
     },
     "execution_count": 19,
     "metadata": {},
     "output_type": "execute_result"
    }
   ],
   "source": [
    "joblib.dump(svc, 'svc.h5')"
   ]
  },
  {
   "cell_type": "code",
   "execution_count": 20,
   "metadata": {
    "execution": {
     "iopub.execute_input": "2021-01-17T05:37:42.953278Z",
     "iopub.status.busy": "2021-01-17T05:37:42.952647Z",
     "iopub.status.idle": "2021-01-17T05:37:42.955388Z",
     "shell.execute_reply": "2021-01-17T05:37:42.955824Z"
    },
    "papermill": {
     "duration": 0.023271,
     "end_time": "2021-01-17T05:37:42.955957",
     "exception": false,
     "start_time": "2021-01-17T05:37:42.932686",
     "status": "completed"
    },
    "tags": []
   },
   "outputs": [],
   "source": [
    "c= a+b"
   ]
  },
  {
   "cell_type": "code",
   "execution_count": 21,
   "metadata": {
    "execution": {
     "iopub.execute_input": "2021-01-17T05:37:42.995046Z",
     "iopub.status.busy": "2021-01-17T05:37:42.994292Z",
     "iopub.status.idle": "2021-01-17T05:37:42.997447Z",
     "shell.execute_reply": "2021-01-17T05:37:42.997830Z"
    },
    "papermill": {
     "duration": 0.024353,
     "end_time": "2021-01-17T05:37:42.997934",
     "exception": false,
     "start_time": "2021-01-17T05:37:42.973581",
     "status": "completed"
    },
    "tags": []
   },
   "outputs": [
    {
     "data": {
      "text/plain": [
       "array([8, 2])"
      ]
     },
     "execution_count": 21,
     "metadata": {},
     "output_type": "execute_result"
    }
   ],
   "source": [
    "np.argmax(c, axis=1)"
   ]
  }
 ],
 "metadata": {
  "kernelspec": {
   "display_name": "Python 3",
   "language": "python",
   "name": "python3"
  },
  "language_info": {
   "codemirror_mode": {
    "name": "ipython",
    "version": 3
   },
   "file_extension": ".py",
   "mimetype": "text/x-python",
   "name": "python",
   "nbconvert_exporter": "python",
   "pygments_lexer": "ipython3",
   "version": "3.7.6"
  },
  "papermill": {
   "duration": 19.496592,
   "end_time": "2021-01-17T05:37:43.120570",
   "environment_variables": {},
   "exception": null,
   "input_path": "__notebook__.ipynb",
   "output_path": "__notebook__.ipynb",
   "parameters": {},
   "start_time": "2021-01-17T05:37:23.623978",
   "version": "2.1.0"
  }
 },
 "nbformat": 4,
 "nbformat_minor": 4
}
